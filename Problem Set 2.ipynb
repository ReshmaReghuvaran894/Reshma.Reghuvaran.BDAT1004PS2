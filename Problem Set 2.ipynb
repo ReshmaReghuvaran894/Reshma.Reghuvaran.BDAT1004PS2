{
 "cells": [
  {
   "cell_type": "markdown",
   "id": "af54bdd9",
   "metadata": {},
   "source": [
    "# Question 1"
   ]
  },
  {
   "cell_type": "code",
   "execution_count": 2,
   "id": "40141960",
   "metadata": {},
   "outputs": [
    {
     "data": {
      "text/plain": [
       "6"
      ]
     },
     "execution_count": 2,
     "metadata": {},
     "output_type": "execute_result"
    }
   ],
   "source": [
    "a = 0\n",
    "def b():\n",
    " global a\n",
    " a = c(a)\n",
    "def c(a):\n",
    " return a + 2\n",
    "\n",
    "b()\n",
    "b()\n",
    "b()\n",
    "a"
   ]
  },
  {
   "cell_type": "markdown",
   "id": "c54fb83c",
   "metadata": {},
   "source": [
    "Here in the query, a is initially declared as 0. The function b(a) is called three times and whenever that function is called, the a value is incremented by 2 and after three calls the value turns as 6."
   ]
  },
  {
   "cell_type": "markdown",
   "id": "5e79e6fa",
   "metadata": {},
   "source": [
    "# Question 2"
   ]
  },
  {
   "cell_type": "code",
   "execution_count": 4,
   "id": "b8eacaab",
   "metadata": {},
   "outputs": [
    {
     "name": "stdout",
     "output_type": "stream",
     "text": [
      "123\n",
      "File idterm.py not found.\n"
     ]
    }
   ],
   "source": [
    "def file_length(file_name):\n",
    "    try:\n",
    "        file = open(file_name)\n",
    "        contents = file.read()\n",
    "        file.close()\n",
    "        print(len(contents))\n",
    "    except:\n",
    "        print(\"File \"+file_name+\" not found.\")\n",
    "        \n",
    "file_length(\"Filelength.py\")\n",
    "file_length(\"idterm.py\")"
   ]
  },
  {
   "cell_type": "markdown",
   "id": "4e9a399b",
   "metadata": {},
   "source": [
    "# Question 3"
   ]
  },
  {
   "cell_type": "code",
   "execution_count": 5,
   "id": "f910fd1f",
   "metadata": {},
   "outputs": [
    {
     "name": "stdout",
     "output_type": "stream",
     "text": [
      "I am a Kangaroo located at coordinates (0 ,0)\n",
      "['doll', 'firetruck', 'kitten']\n",
      "I am a Kangaroo located at coordinates (3 ,0)\n"
     ]
    }
   ],
   "source": [
    "class Marsupial:                \n",
    "    \n",
    "    def __init__(self,x,y):       \n",
    "        self.pouch=[]                   \n",
    "             \n",
    "    def put_in_pouch(self,items):   \n",
    "        self.pouch.append(items)\n",
    "        \n",
    "    def pouch_contents(self):           \n",
    "        return self.pouch\n",
    "\n",
    "class Kangaroo(Marsupial):         \n",
    "    def __init__(self,x,y):              \n",
    "        super().__init__(x,y)     \n",
    "        self.dx = 0                      \n",
    "        self.dy = 0                        \n",
    "    \n",
    "    def jump(self,x,y):                 \n",
    "        self.dx = self.dx + x    \n",
    "        self.dy = self.dy + y\n",
    "    \n",
    "    def __str__(self):          \n",
    "        \n",
    "        return ('I am a Kangaroo located at coordinates ({} ,{})'.format(self.dx,self.dy))\n",
    "\n",
    "k = Kangaroo(0,0)\n",
    "print(k)\n",
    "k.put_in_pouch('doll')\n",
    "k.put_in_pouch('firetruck')\n",
    "k.put_in_pouch('kitten')\n",
    "k.pouch_contents()\n",
    "print(k.pouch)  \n",
    "k.jump(1,0)\n",
    "k.jump(1,0)\n",
    "k.jump(1,0)\n",
    "print(k)"
   ]
  },
  {
   "cell_type": "markdown",
   "id": "f5a8ae82",
   "metadata": {},
   "source": [
    "# Question 4"
   ]
  },
  {
   "cell_type": "code",
   "execution_count": 7,
   "id": "1241191c",
   "metadata": {},
   "outputs": [],
   "source": [
    "def collatz (x):\n",
    "    if(x != 1):\n",
    "        print(x )\n",
    "    if(x == 1):\n",
    "        print(x )\n",
    "        return x\n",
    "    if(x%2 == 0):\n",
    "        x = x // 2\n",
    "        collatz(x)\n",
    "    else:\n",
    "        x= 3*x + 1\n",
    "        collatz(x)"
   ]
  },
  {
   "cell_type": "code",
   "execution_count": 8,
   "id": "4b1d8aba",
   "metadata": {},
   "outputs": [
    {
     "name": "stdout",
     "output_type": "stream",
     "text": [
      "1\n"
     ]
    },
    {
     "data": {
      "text/plain": [
       "1"
      ]
     },
     "execution_count": 8,
     "metadata": {},
     "output_type": "execute_result"
    }
   ],
   "source": [
    "collatz(1)"
   ]
  },
  {
   "cell_type": "code",
   "execution_count": 9,
   "id": "5d9da98d",
   "metadata": {},
   "outputs": [
    {
     "name": "stdout",
     "output_type": "stream",
     "text": [
      "10\n",
      "5\n",
      "16\n",
      "8\n",
      "4\n",
      "2\n",
      "1\n"
     ]
    }
   ],
   "source": [
    "collatz(10)"
   ]
  },
  {
   "cell_type": "markdown",
   "id": "9c8c7add",
   "metadata": {},
   "source": [
    "# Question 5"
   ]
  },
  {
   "cell_type": "code",
   "execution_count": 29,
   "id": "029bfb9f",
   "metadata": {},
   "outputs": [
    {
     "name": "stdout",
     "output_type": "stream",
     "text": [
      "Binary representation of 0\n",
      "0\n",
      "Binary representation of 1\n",
      "1\n",
      "Binary representation of 3\n",
      "11\n",
      "Binary representation of 9\n",
      "1001\n"
     ]
    }
   ],
   "source": [
    "number =\"\"\n",
    "def binary (n):\n",
    "    global number\n",
    "    if(n!=1): \n",
    "        if(n==0):\n",
    "            print(n)\n",
    "        else:\n",
    "            x=\"\"\n",
    "            x =str(n%2)\n",
    "            number+=x\n",
    "            n =int(n/2)\n",
    "            binary(n)\n",
    "    else:\n",
    "        number +=\"1\"\n",
    "        number = number [::-1]\n",
    "        print(number)\n",
    "        number=\"\"\n",
    "print(\"Binary representation of 0\")        \n",
    "binary(0)\n",
    "print(\"Binary representation of 1\") \n",
    "binary(1)\n",
    "print(\"Binary representation of 3\") \n",
    "binary(3)\n",
    "print(\"Binary representation of 9\") \n",
    "binary(9)"
   ]
  },
  {
   "cell_type": "markdown",
   "id": "248ceaf8",
   "metadata": {},
   "source": [
    "# Question 6"
   ]
  },
  {
   "cell_type": "markdown",
   "id": "086f8ff1",
   "metadata": {},
   "source": [
    "# Question 7"
   ]
  },
  {
   "cell_type": "markdown",
   "id": "7d334f02",
   "metadata": {},
   "source": [
    "# Question 8"
   ]
  },
  {
   "cell_type": "code",
   "execution_count": 24,
   "id": "3786cc32",
   "metadata": {},
   "outputs": [
    {
     "name": "stdout",
     "output_type": "stream",
     "text": [
      "The temperature data for all the places are as below\n",
      "(24.8,)\n",
      "(28.4,)\n",
      "(27.9,)\n",
      "(27.6,)\n",
      "(4.2,)\n",
      "(8.3,)\n",
      "(15.7,)\n",
      "(10.4,)\n",
      "(13.6,)\n",
      "(20.7,)\n",
      "(27.7,)\n",
      "(22.2,)\n",
      "\n",
      "Below is the temperature data for all the cities, but without repetition\n",
      "('Mumbai',)\n",
      "('London',)\n",
      "('Cairo',)\n",
      "\n",
      "Below is the temperature data for India\n",
      "('Mumbai', 'India', 'Winter', 24.8, 5.9)\n",
      "('Mumbai', 'India', 'Spring', 28.4, 16.2)\n",
      "('Mumbai', 'India', 'Summer', 27.9, 1549.4)\n",
      "('Mumbai', 'India', 'Fall', 27.6, 346)\n",
      "\n",
      "Below is the temperature data for the Fall season\n",
      "('Mumbai', 'India', 'Fall', 27.6, 346)\n",
      "('London', 'United Kingdom', 'Fall', 10.4, 218.5)\n",
      "('Cairo', 'Egypt', 'Fall', 22.2, 4.5)\n",
      "\n",
      "Below is the weather data for which the average rainfall is between 200 and 400 millimeters\n",
      "('Mumbai', 'India', 'Fall')\n",
      "('London', 'United Kingdom', 'Winter')\n",
      "('London', 'United Kingdom', 'Fall')\n",
      "\n",
      "Below is the weather data for which the average Fall temperature is above 20 degrees, in increasing temperature order\n",
      "('Cairo', 'Egypt')\n",
      "('Mumbai', 'India')\n",
      "\n",
      "Below is the weather data for total rainfall in Cairo\n",
      "(27.6,)\n",
      "\n",
      "Below is the weather data for total rainfall for each season\n",
      "('Fall', 569.0)\n",
      "('Spring', 192.29999999999998)\n",
      "('Summer', 1706.5)\n",
      "('Winter', 230.1)\n"
     ]
    }
   ],
   "source": [
    "import sqlite3\n",
    "conn = sqlite3.connect('report1.db')\n",
    "conn.execute('''\n",
    "CREATE TABLE IF NOT EXISTS weatherreport(city string,\n",
    "                      country string,\n",
    "                      season string,\n",
    "                      temperature integer,\n",
    "                      rainfall integer);''')\n",
    "conn.commit()\n",
    "x = conn.cursor()\n",
    "conn.execute(\"INSERT INTO weatherreport VALUES('Mumbai', 'India', 'Winter', 24.8, 5.9);\")\n",
    "conn.execute(\"INSERT INTO weatherreport VALUES('Mumbai', 'India', 'Spring', 28.4, 16.2);\")\n",
    "conn.execute(\"INSERT INTO weatherreport VALUES('Mumbai', 'India', 'Summer', 27.9, 1549.4);\")\n",
    "conn.execute(\"INSERT INTO weatherreport VALUES('Mumbai', 'India', 'Fall', 27.6, 346.0);\")\n",
    "conn.execute(\"INSERT INTO weatherreport VALUES('London', 'United Kingdom', 'Winter', 4.2, 207.7);\")\n",
    "conn.execute(\"INSERT INTO weatherreport VALUES('London', 'United Kingdom', 'Spring', 8.3, 169.6 );\")\n",
    "conn.execute(\"INSERT INTO weatherreport VALUES('London', 'United Kingdom', 'Summer', 15.7, 157.0);\")\n",
    "conn.execute(\"INSERT INTO weatherreport VALUES('London', 'United Kingdom', 'Fall', 10.4, 218.5);\")\n",
    "conn.execute(\"INSERT INTO weatherreport VALUES('Cairo', 'Egypt', 'Winter', 13.6, 16.5);\")\n",
    "conn.execute(\"INSERT INTO weatherreport VALUES('Cairo', 'Egypt', 'Spring', 20.7, 6.5);\")\n",
    "conn.execute(\"INSERT INTO weatherreport VALUES('Cairo', 'Egypt', 'Summer', 27.7, 0.1);\")\n",
    "conn.execute(\"INSERT INTO weatherreport VALUES('Cairo', 'Egypt', 'Fall', 22.2, 4.5);\")\n",
    "\n",
    "print(\"The temperature data for all the places are as below\")\n",
    "x.execute(\"SELECT temperature from weatherreport\")\n",
    "y=x.fetchall()             \n",
    "for i in y:\n",
    "  print(i)\n",
    "\n",
    "print()\n",
    "print(\"Below is the temperature data for all the cities, but without repetition\")\n",
    "x.execute(\"SELECT DISTINCT(city) from weatherreport\")\n",
    "y = x.fetchall()\n",
    "for i in y:                         \n",
    "  print(i)\n",
    "\n",
    "print()\n",
    "print(\"Below is the temperature data for India\")\n",
    "x.execute(\"SELECT * from weatherreport WHERE country = 'India'\")\n",
    "y = x.fetchall()\n",
    "for i in y:                            \n",
    "  print(i)\n",
    "\n",
    "print()\n",
    "print(\"Below is the temperature data for the Fall season\")\n",
    "x.execute(\"SELECT * from weatherreport WHERE season = 'Fall'\")\n",
    "y = x.fetchall()\n",
    "for i in y:                            \n",
    "  print(i)\n",
    "\n",
    "print()\n",
    "print(\"Below is the weather data for which the average rainfall is between 200 and 400 millimeters\")\n",
    "x.execute(\"SELECT city,country,season from weatherreport WHERE rainfall BETWEEN 200 and 400\")\n",
    "y = x.fetchall()\n",
    "for i in y:                                \n",
    "  print(i)\n",
    "\n",
    "print()\n",
    "print(\"Below is the weather data for which the average Fall temperature is above 20 degrees, in increasing temperature order\")\n",
    "x.execute(\"SELECT city,country from weatherreport WHERE (season = 'Fall' and temperature > 20) Order BY temperature ASC \")\n",
    "y = x.fetchall()\n",
    "for i in y:                             \n",
    "  print(i)\n",
    "\n",
    "print()\n",
    "print(\"Below is the weather data for total rainfall in Cairo\")\n",
    "x.execute(\"SELECT sum(rainfall) from weatherreport WHERE city = 'Cairo'\")\n",
    "y = x.fetchall()\n",
    "for i in y:\n",
    "  print(i)\n",
    "\n",
    "print()\n",
    "print(\"Below is the weather data for total rainfall for each season\")\n",
    "x.execute(\"SELECT season, sum(rainfall) from weatherreport group by season\")\n",
    "y = x.fetchall()\n",
    "for i in y:                                \n",
    "  print(i)\n",
    "\n",
    "conn.close()"
   ]
  },
  {
   "cell_type": "markdown",
   "id": "8f7846c6",
   "metadata": {},
   "source": [
    "# Question 9 "
   ]
  },
  {
   "cell_type": "code",
   "execution_count": 27,
   "id": "9e371f3b",
   "metadata": {},
   "outputs": [
    {
     "name": "stdout",
     "output_type": "stream",
     "text": [
      "Displaying the words in uppercase letters\n",
      "['THE', 'QUICK', 'BROWN', 'FOX', 'JUMPS', 'OVER', 'THE', 'LAZY', 'DOG']\n",
      "\n",
      "Displaying the words in lowercase letters\n",
      "['the', 'quick', 'brown', 'fox', 'jumps', 'over', 'the', 'lazy', 'dog']\n",
      "\n",
      "Displaying the list of length of words\n",
      "[3, 5, 5, 3, 5, 4, 3, 4, 3]\n",
      "\n",
      "Displaying the list containing a list for every word of list words, where each list contains the word in uppercase and lowercase and the length of the word\n",
      "[['THE', 'the', 3], ['QUICK', 'quick', 5], ['BROWN', 'brown', 5], ['FOX', 'fox', 3], ['JUMPS', 'jumps', 5], ['OVER', 'over', 4], ['THE', 'the', 3], ['LAZY', 'lazy', 4], ['DOG', 'dog', 3]]\n",
      "\n",
      "Displaying the list of words which contains 4 or more characters\n",
      "['The', 'quick', 'brown', 'fox', 'jumps', 'over', 'the', 'lazy', 'dog']\n"
     ]
    }
   ],
   "source": [
    "words = ['The', 'quick', 'brown', 'fox', 'jumps', 'over', 'the', 'lazy', 'dog']\n",
    "print(\"Displaying the words in uppercase letters\")\n",
    "print([i.upper() for i in words])\n",
    "print()\n",
    "print(\"Displaying the words in lowercase letters\")\n",
    "print([i.lower() for i in words])\n",
    "print()\n",
    "print(\"Displaying the list of length of words\")\n",
    "print([len(i) for i in words])\n",
    "print()\n",
    "print(\"Displaying the list containing a list for every word of list words, where each list contains the word in uppercase and lowercase and the length of the word\")\n",
    "print([[i.upper(), i.lower(), len(i)]for i in words])\n",
    "print()\n",
    "print(\"Displaying the list of words which contains 4 or more characters\")\n",
    "print([i for i in words if len(i) >= 3])"
   ]
  },
  {
   "cell_type": "code",
   "execution_count": null,
   "id": "432b0fab",
   "metadata": {},
   "outputs": [],
   "source": []
  }
 ],
 "metadata": {
  "kernelspec": {
   "display_name": "Python 3 (ipykernel)",
   "language": "python",
   "name": "python3"
  },
  "language_info": {
   "codemirror_mode": {
    "name": "ipython",
    "version": 3
   },
   "file_extension": ".py",
   "mimetype": "text/x-python",
   "name": "python",
   "nbconvert_exporter": "python",
   "pygments_lexer": "ipython3",
   "version": "3.9.12"
  }
 },
 "nbformat": 4,
 "nbformat_minor": 5
}
